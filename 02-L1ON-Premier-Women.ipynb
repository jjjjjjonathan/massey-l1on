{
 "cells": [
  {
   "cell_type": "code",
   "execution_count": 108,
   "id": "76737da7",
   "metadata": {},
   "outputs": [],
   "source": [
    "import numpy as np\n",
    "import pandas as pd\n",
    "import helpers"
   ]
  },
  {
   "cell_type": "code",
   "execution_count": 109,
   "id": "ee62b7bb",
   "metadata": {},
   "outputs": [
    {
     "data": {
      "text/html": [
       "<div>\n",
       "<style scoped>\n",
       "    .dataframe tbody tr th:only-of-type {\n",
       "        vertical-align: middle;\n",
       "    }\n",
       "\n",
       "    .dataframe tbody tr th {\n",
       "        vertical-align: top;\n",
       "    }\n",
       "\n",
       "    .dataframe thead th {\n",
       "        text-align: right;\n",
       "    }\n",
       "</style>\n",
       "<table border=\"1\" class=\"dataframe\">\n",
       "  <thead>\n",
       "    <tr style=\"text-align: right;\">\n",
       "      <th></th>\n",
       "      <th>Club ID</th>\n",
       "      <th>Club</th>\n",
       "    </tr>\n",
       "  </thead>\n",
       "  <tbody>\n",
       "    <tr>\n",
       "      <th>0</th>\n",
       "      <td>175309</td>\n",
       "      <td>ALLIANCE UNITED WOMEN</td>\n",
       "    </tr>\n",
       "    <tr>\n",
       "      <th>1</th>\n",
       "      <td>175383</td>\n",
       "      <td>FC LONDON WOMEN</td>\n",
       "    </tr>\n",
       "    <tr>\n",
       "      <th>2</th>\n",
       "      <td>175327</td>\n",
       "      <td>GUELPH UNITED WOMEN</td>\n",
       "    </tr>\n",
       "    <tr>\n",
       "      <th>3</th>\n",
       "      <td>175403</td>\n",
       "      <td>NDC ONTARIO WOMEN</td>\n",
       "    </tr>\n",
       "    <tr>\n",
       "      <th>4</th>\n",
       "      <td>175392</td>\n",
       "      <td>NORTH MISSISSAUGA SC WOMEN</td>\n",
       "    </tr>\n",
       "    <tr>\n",
       "      <th>5</th>\n",
       "      <td>175338</td>\n",
       "      <td>NORTH TORONTO WOMEN</td>\n",
       "    </tr>\n",
       "    <tr>\n",
       "      <th>6</th>\n",
       "      <td>175359</td>\n",
       "      <td>SIMCOE COUNTY ROVERS FC WOMEN</td>\n",
       "    </tr>\n",
       "    <tr>\n",
       "      <th>7</th>\n",
       "      <td>175295</td>\n",
       "      <td>VAUGHAN AZZURRI WOMEN</td>\n",
       "    </tr>\n",
       "    <tr>\n",
       "      <th>8</th>\n",
       "      <td>175368</td>\n",
       "      <td>WOODBRIDGE STRIKERS WOMEN</td>\n",
       "    </tr>\n",
       "    <tr>\n",
       "      <th>9</th>\n",
       "      <td>175315</td>\n",
       "      <td>BLUE DEVILS FC WOMEN</td>\n",
       "    </tr>\n",
       "  </tbody>\n",
       "</table>\n",
       "</div>"
      ],
      "text/plain": [
       "   Club ID                           Club\n",
       "0   175309          ALLIANCE UNITED WOMEN\n",
       "1   175383                FC LONDON WOMEN\n",
       "2   175327            GUELPH UNITED WOMEN\n",
       "3   175403              NDC ONTARIO WOMEN\n",
       "4   175392     NORTH MISSISSAUGA SC WOMEN\n",
       "5   175338            NORTH TORONTO WOMEN\n",
       "6   175359  SIMCOE COUNTY ROVERS FC WOMEN\n",
       "7   175295          VAUGHAN AZZURRI WOMEN\n",
       "8   175368      WOODBRIDGE STRIKERS WOMEN\n",
       "9   175315           BLUE DEVILS FC WOMEN"
      ]
     },
     "execution_count": 109,
     "metadata": {},
     "output_type": "execute_result"
    }
   ],
   "source": [
    "teams_df = pd.read_csv('data/2024/womens_prem_teams.csv')\n",
    "teams_df"
   ]
  },
  {
   "cell_type": "code",
   "execution_count": 110,
   "id": "fe9e4f57",
   "metadata": {},
   "outputs": [
    {
     "data": {
      "text/html": [
       "<div>\n",
       "<style scoped>\n",
       "    .dataframe tbody tr th:only-of-type {\n",
       "        vertical-align: middle;\n",
       "    }\n",
       "\n",
       "    .dataframe tbody tr th {\n",
       "        vertical-align: top;\n",
       "    }\n",
       "\n",
       "    .dataframe thead th {\n",
       "        text-align: right;\n",
       "    }\n",
       "</style>\n",
       "<table border=\"1\" class=\"dataframe\">\n",
       "  <thead>\n",
       "    <tr style=\"text-align: right;\">\n",
       "      <th></th>\n",
       "      <th>Match ID</th>\n",
       "      <th>Home result</th>\n",
       "      <th>Away result</th>\n",
       "      <th>Home team</th>\n",
       "      <th>Away team</th>\n",
       "    </tr>\n",
       "  </thead>\n",
       "  <tbody>\n",
       "    <tr>\n",
       "      <th>0</th>\n",
       "      <td>181691068</td>\n",
       "      <td>2</td>\n",
       "      <td>0</td>\n",
       "      <td>175403</td>\n",
       "      <td>175327</td>\n",
       "    </tr>\n",
       "    <tr>\n",
       "      <th>1</th>\n",
       "      <td>181691069</td>\n",
       "      <td>2</td>\n",
       "      <td>1</td>\n",
       "      <td>175295</td>\n",
       "      <td>175359</td>\n",
       "    </tr>\n",
       "    <tr>\n",
       "      <th>2</th>\n",
       "      <td>181691070</td>\n",
       "      <td>0</td>\n",
       "      <td>4</td>\n",
       "      <td>175315</td>\n",
       "      <td>175309</td>\n",
       "    </tr>\n",
       "    <tr>\n",
       "      <th>3</th>\n",
       "      <td>181691071</td>\n",
       "      <td>0</td>\n",
       "      <td>3</td>\n",
       "      <td>175392</td>\n",
       "      <td>175338</td>\n",
       "    </tr>\n",
       "    <tr>\n",
       "      <th>4</th>\n",
       "      <td>181691072</td>\n",
       "      <td>2</td>\n",
       "      <td>1</td>\n",
       "      <td>175383</td>\n",
       "      <td>175368</td>\n",
       "    </tr>\n",
       "    <tr>\n",
       "      <th>...</th>\n",
       "      <td>...</td>\n",
       "      <td>...</td>\n",
       "      <td>...</td>\n",
       "      <td>...</td>\n",
       "      <td>...</td>\n",
       "    </tr>\n",
       "    <tr>\n",
       "      <th>85</th>\n",
       "      <td>181691153</td>\n",
       "      <td>7</td>\n",
       "      <td>1</td>\n",
       "      <td>175327</td>\n",
       "      <td>175309</td>\n",
       "    </tr>\n",
       "    <tr>\n",
       "      <th>86</th>\n",
       "      <td>181691154</td>\n",
       "      <td>4</td>\n",
       "      <td>0</td>\n",
       "      <td>175403</td>\n",
       "      <td>175392</td>\n",
       "    </tr>\n",
       "    <tr>\n",
       "      <th>87</th>\n",
       "      <td>181691155</td>\n",
       "      <td>3</td>\n",
       "      <td>0</td>\n",
       "      <td>175383</td>\n",
       "      <td>175359</td>\n",
       "    </tr>\n",
       "    <tr>\n",
       "      <th>88</th>\n",
       "      <td>181691156</td>\n",
       "      <td>0</td>\n",
       "      <td>2</td>\n",
       "      <td>175315</td>\n",
       "      <td>175338</td>\n",
       "    </tr>\n",
       "    <tr>\n",
       "      <th>89</th>\n",
       "      <td>181691157</td>\n",
       "      <td>2</td>\n",
       "      <td>4</td>\n",
       "      <td>175295</td>\n",
       "      <td>175368</td>\n",
       "    </tr>\n",
       "  </tbody>\n",
       "</table>\n",
       "<p>90 rows × 5 columns</p>\n",
       "</div>"
      ],
      "text/plain": [
       "     Match ID  Home result  Away result  Home team  Away team\n",
       "0   181691068            2            0     175403     175327\n",
       "1   181691069            2            1     175295     175359\n",
       "2   181691070            0            4     175315     175309\n",
       "3   181691071            0            3     175392     175338\n",
       "4   181691072            2            1     175383     175368\n",
       "..        ...          ...          ...        ...        ...\n",
       "85  181691153            7            1     175327     175309\n",
       "86  181691154            4            0     175403     175392\n",
       "87  181691155            3            0     175383     175359\n",
       "88  181691156            0            2     175315     175338\n",
       "89  181691157            2            4     175295     175368\n",
       "\n",
       "[90 rows x 5 columns]"
      ]
     },
     "execution_count": 110,
     "metadata": {},
     "output_type": "execute_result"
    }
   ],
   "source": [
    "scores_df = pd.read_csv('data/2024/womens_prem_results.csv')\n",
    "scores_df\n"
   ]
  },
  {
   "cell_type": "code",
   "execution_count": 111,
   "id": "c2e7d1cf",
   "metadata": {},
   "outputs": [],
   "source": [
    "scores_list = scores_df.to_numpy()\n",
    "teams_list = teams_df.to_numpy()\n",
    "\n",
    "X = np.array(helpers.buildScoresArray(scores_list, teams_list))"
   ]
  },
  {
   "cell_type": "code",
   "execution_count": 112,
   "id": "d05708e9",
   "metadata": {},
   "outputs": [
    {
     "name": "stdout",
     "output_type": "stream",
     "text": [
      "           ALLIANCE UNITED WOMEN  FC LONDON WOMEN  GUELPH UNITED WOMEN  NDC ONTARIO WOMEN  NORTH MISSISSAUGA SC WOMEN  NORTH TORONTO WOMEN  SIMCOE COUNTY ROVERS FC WOMEN  VAUGHAN AZZURRI WOMEN  WOODBRIDGE STRIKERS WOMEN  BLUE DEVILS FC WOMEN\n",
      "181691068                      0                0                   -1                  1                           0                    0                              0                      0                          0                     0\n",
      "181691069                      0                0                    0                  0                           0                    0                             -1                      1                          0                     0\n",
      "181691070                      1                0                    0                  0                           0                    0                              0                      0                          0                    -1\n",
      "181691071                      0                0                    0                  0                          -1                    1                              0                      0                          0                     0\n",
      "181691072                      0                1                    0                  0                           0                    0                              0                      0                         -1                     0\n",
      "181691073                      0                0                    0                  0                           0                    1                              0                      0                         -1                     0\n",
      "181691074                     -1                0                    0                  0                           0                    0                              1                      0                          0                     0\n",
      "181691075                      0                0                    0                  1                          -1                    0                              0                      0                          0                     0\n",
      "181691076                      0                1                    0                  0                           0                    0                              0                      0                          0                    -1\n",
      "181691077                      0                0                   -1                  0                           0                    0                              0                      1                          0                     0\n",
      "181691078                      0               -1                    0                  1                           0                    0                              0                      0                          0                     0\n",
      "181691079                      0                0                    0                  0                           0                    1                              0                     -1                          0                     0\n",
      "181691080                      0                0                    0                  0                           1                    0                              0                      0                          0                    -1\n",
      "181691081                     -1                0                    1                  0                           0                    0                              0                      0                          0                     0\n",
      "181691082                      0                0                    0                  0                           0                    0                             -1                      0                          1                     0\n",
      "181691083                      0                0                    0                  0                           1                    0                             -1                      0                          0                     0\n",
      "181691084                      0                1                   -1                  0                           0                    0                              0                      0                          0                     0\n",
      "181691085                      0                0                    0                  1                           0                   -1                              0                      0                          0                     0\n",
      "181691086                      1                0                    0                  0                           0                    0                              0                     -1                          0                     0\n",
      "181691087                      0                0                    0                  0                           0                    0                              0                      0                          1                    -1\n",
      "181691088                     -1                0                    0                  0                           0                    1                              0                      0                          0                     0\n",
      "181691089                     -1                0                    0                  0                           0                    1                              0                      0                          0                     0\n",
      "181691090                      0                0                    1                  0                          -1                    0                              0                      0                          0                     0\n",
      "181691091                      0                0                    0                  1                           0                    0                              0                      0                          0                    -1\n",
      "181691092                      0                0                    0                  0                           0                    0                              0                     -1                          1                     0\n",
      "181691093                      0               -1                    0                  0                           0                    0                              1                      0                          0                     0\n",
      "181691094                      0                0                    1                  0                           0                    0                              0                      0                         -1                     0\n",
      "181691095                      0                0                    0                  0                           1                    0                              0                      0                          0                    -1\n",
      "181691096                      0                0                    0                  1                           0                    0                             -1                      0                          0                     0\n",
      "181691097                      0               -1                    0                  0                           0                    0                              0                      1                          0                     0\n",
      "181691098                      0                0                    0                 -1                           0                    0                              0                      0                          1                     0\n",
      "181691099                      0                0                    0                  0                           0                    0                              0                      1                          0                    -1\n",
      "181691100                      0                0                   -1                  0                           0                    0                              1                      0                          0                     0\n",
      "181691101                      0               -1                    0                  0                           0                    1                              0                      0                          0                     0\n",
      "181691102                     -1                0                    0                  0                           1                    0                              0                      0                          0                     0\n",
      "181691103                     -1                0                    0                  1                           0                    0                              0                      0                          0                     0\n",
      "181691104                      0                0                   -1                  0                           0                    1                              0                      0                          0                     0\n",
      "181691105                      0                0                    0                  0                          -1                    0                              0                      0                          1                     0\n",
      "181691106                      0                0                    0                  0                           0                    0                              1                      0                          0                    -1\n",
      "181691107                      0                1                    0                  0                           0                    0                              0                     -1                          0                     0\n",
      "181691108                      0                0                    0                  0                          -1                    0                              0                      0                          1                     0\n",
      "181691109                     -1                1                    0                  0                           0                    0                              0                      0                          0                     0\n",
      "181691110                      0                0                    0                  1                           0                    0                             -1                      0                          0                     0\n",
      "181691111                      0                0                   -1                  0                           0                    0                              0                      0                          1                     0\n",
      "181691112                      0                0                    0                  0                           1                    0                              0                     -1                          0                     0\n",
      "181691113                      0                0                    0                  0                           0                    1                              0                      0                          0                    -1\n",
      "181691114                      0                0                   -1                  0                           0                    0                              1                      0                          0                     0\n",
      "181691115                      1                0                    0                  0                           0                    0                              0                      0                          0                    -1\n",
      "181691116                      0               -1                    0                  0                           0                    1                              0                      0                          0                     0\n",
      "181691117                      0                0                    0                  0                           0                    1                             -1                      0                          0                     0\n",
      "181691118                      0                0                    1                  0                           0                    0                              0                      0                          0                    -1\n",
      "181691119                      0                0                    0                  1                           0                    0                              0                     -1                          0                     0\n",
      "181691120                      0                1                    0                  0                          -1                    0                              0                      0                          0                     0\n",
      "181691121                     -1                0                    0                  0                           0                    0                              0                      0                          1                     0\n",
      "181691122                      0                0                    0                  0                           0                    0                             -1                      0                          1                     0\n",
      "181691123                      0                0                    0                  0                           0                   -1                              0                      1                          0                     0\n",
      "181691124                      0                0                    1                  0                          -1                    0                              0                      0                          0                     0\n",
      "181691125                      0                0                    0                  1                           0                    0                              0                      0                          0                    -1\n",
      "181691126                     -1                1                    0                  0                           0                    0                              0                      0                          0                     0\n",
      "181691127                      1                0                    0                  0                           0                    0                              0                     -1                          0                     0\n",
      "181691128                      0                0                    0                  1                           0                    0                              0                      0                         -1                     0\n",
      "181691129                      0                1                   -1                  0                           0                    0                              0                      0                          0                     0\n",
      "181691130                      0                0                    0                  0                           0                    0                              1                      0                          0                    -1\n",
      "181691131                      0                0                    0                  0                          -1                    1                              0                      0                          0                     0\n",
      "181691132                      0                0                   -1                  1                           0                    0                              0                      0                          0                     0\n",
      "181691133                      1                0                    0                  0                          -1                    0                              0                      0                          0                     0\n",
      "181691134                      0                0                    0                  0                           0                    1                              0                      0                         -1                     0\n",
      "181691135                      0                1                    0                  0                           0                    0                              0                      0                          0                    -1\n",
      "181691136                      0                0                    0                  0                           0                    0                              1                     -1                          0                     0\n",
      "181691137                     -1                0                    0                  1                           0                    0                              0                      0                          0                     0\n",
      "181691138                      0                0                    1                  0                           0                    0                              0                      0                          0                    -1\n",
      "181691139                      0                1                    0                  0                           0                    0                              0                      0                         -1                     0\n",
      "181691140                      0                0                    0                  0                           0                   -1                              1                      0                          0                     0\n",
      "181691141                      0                0                    0                  0                          -1                    0                              0                      1                          0                     0\n",
      "181691142                      0                0                    0                  1                           0                   -1                              0                      0                          0                     0\n",
      "181691143                      0                0                    1                  0                           0                    0                              0                     -1                          0                     0\n",
      "181691144                      1                0                    0                  0                           0                    0                             -1                      0                          0                     0\n",
      "181691145                      0                1                    0                  0                          -1                    0                              0                      0                          0                     0\n",
      "181691146                      0                0                    0                  0                           0                    0                              0                      0                          1                    -1\n",
      "181691147                      0                0                    0                 -1                           0                    0                              0                      1                          0                     0\n",
      "181691148                      0                0                    1                  0                           0                   -1                              0                      0                          0                     0\n",
      "181691149                     -1                0                    0                  0                           0                    0                              0                      0                          1                     0\n",
      "181691150                      0                1                    0                 -1                           0                    0                              0                      0                          0                     0\n",
      "181691151                      0                0                    0                  0                           0                    0                              0                      1                          0                    -1\n",
      "181691152                      0                0                    0                  0                          -1                    0                              1                      0                          0                     0\n",
      "181691153                     -1                0                    1                  0                           0                    0                              0                      0                          0                     0\n",
      "181691154                      0                0                    0                  1                          -1                    0                              0                      0                          0                     0\n",
      "181691155                      0                1                    0                  0                           0                    0                             -1                      0                          0                     0\n",
      "181691156                      0                0                    0                  0                           0                    1                              0                      0                          0                    -1\n",
      "181691157                      0                0                    0                  0                           0                    0                              0                     -1                          1                     0\n"
     ]
    }
   ],
   "source": [
    "teams = teams_df['Club'].tolist()\n",
    "match_ids = scores_df['Match ID'].tolist()\n",
    "\n",
    "X_df = pd.DataFrame(X, index=match_ids, columns=teams)\n",
    "print(X_df.to_string())"
   ]
  },
  {
   "cell_type": "code",
   "execution_count": 113,
   "id": "cbc664fc",
   "metadata": {},
   "outputs": [
    {
     "name": "stdout",
     "output_type": "stream",
     "text": [
      "                               181691068  181691069  181691070  181691071  181691072  181691073  181691074  181691075  181691076  181691077  181691078  181691079  181691080  181691081  181691082  181691083  181691084  181691085  181691086  181691087  181691088  181691089  181691090  181691091  181691092  181691093  181691094  181691095  181691096  181691097  181691098  181691099  181691100  181691101  181691102  181691103  181691104  181691105  181691106  181691107  181691108  181691109  181691110  181691111  181691112  181691113  181691114  181691115  181691116  181691117  181691118  181691119  181691120  181691121  181691122  181691123  181691124  181691125  181691126  181691127  181691128  181691129  181691130  181691131  181691132  181691133  181691134  181691135  181691136  181691137  181691138  181691139  181691140  181691141  181691142  181691143  181691144  181691145  181691146  181691147  181691148  181691149  181691150  181691151  181691152  181691153  181691154  181691155  181691156  181691157\n",
      "ALLIANCE UNITED WOMEN                  0          0          1          0          0          0         -1          0          0          0          0          0          0         -1          0          0          0          0          1          0         -1         -1          0          0          0          0          0          0          0          0          0          0          0          0         -1         -1          0          0          0          0          0         -1          0          0          0          0          0          1          0          0          0          0          0         -1          0          0          0          0         -1          1          0          0          0          0          0          1          0          0          0         -1          0          0          0          0          0          0          1          0          0          0          0         -1          0          0          0         -1          0          0          0          0\n",
      "FC LONDON WOMEN                        0          0          0          0          1          0          0          0          1          0         -1          0          0          0          0          0          1          0          0          0          0          0          0          0          0         -1          0          0          0         -1          0          0          0         -1          0          0          0          0          0          1          0          1          0          0          0          0          0          0         -1          0          0          0          1          0          0          0          0          0          1          0          0          1          0          0          0          0          0          1          0          0          0          1          0          0          0          0          0          1          0          0          0          0          1          0          0          0          0          1          0          0\n",
      "GUELPH UNITED WOMEN                   -1          0          0          0          0          0          0          0          0         -1          0          0          0          1          0          0         -1          0          0          0          0          0          1          0          0          0          1          0          0          0          0          0         -1          0          0          0         -1          0          0          0          0          0          0         -1          0          0         -1          0          0          0          1          0          0          0          0          0          1          0          0          0          0         -1          0          0         -1          0          0          0          0          0          1          0          0          0          0          1          0          0          0          0          1          0          0          0          0          1          0          0          0          0\n",
      "NDC ONTARIO WOMEN                      1          0          0          0          0          0          0          1          0          0          1          0          0          0          0          0          0          1          0          0          0          0          0          1          0          0          0          0          1          0         -1          0          0          0          0          1          0          0          0          0          0          0          1          0          0          0          0          0          0          0          0          1          0          0          0          0          0          1          0          0          1          0          0          0          1          0          0          0          0          1          0          0          0          0          1          0          0          0          0         -1          0          0         -1          0          0          0          1          0          0          0\n",
      "NORTH MISSISSAUGA SC WOMEN             0          0          0         -1          0          0          0         -1          0          0          0          0          1          0          0          1          0          0          0          0          0          0         -1          0          0          0          0          1          0          0          0          0          0          0          1          0          0         -1          0          0         -1          0          0          0          1          0          0          0          0          0          0          0         -1          0          0          0         -1          0          0          0          0          0          0         -1          0         -1          0          0          0          0          0          0          0         -1          0          0          0         -1          0          0          0          0          0          0         -1          0         -1          0          0          0\n",
      "NORTH TORONTO WOMEN                    0          0          0          1          0          1          0          0          0          0          0          1          0          0          0          0          0         -1          0          0          1          1          0          0          0          0          0          0          0          0          0          0          0          1          0          0          1          0          0          0          0          0          0          0          0          1          0          0          1          1          0          0          0          0          0         -1          0          0          0          0          0          0          0          1          0          0          1          0          0          0          0          0         -1          0         -1          0          0          0          0          0         -1          0          0          0          0          0          0          0          1          0\n",
      "SIMCOE COUNTY ROVERS FC WOMEN          0         -1          0          0          0          0          1          0          0          0          0          0          0          0         -1         -1          0          0          0          0          0          0          0          0          0          1          0          0         -1          0          0          0          1          0          0          0          0          0          1          0          0          0         -1          0          0          0          1          0          0         -1          0          0          0          0         -1          0          0          0          0          0          0          0          1          0          0          0          0          0          1          0          0          0          1          0          0          0         -1          0          0          0          0          0          0          0          1          0          0         -1          0          0\n",
      "VAUGHAN AZZURRI WOMEN                  0          1          0          0          0          0          0          0          0          1          0         -1          0          0          0          0          0          0         -1          0          0          0          0          0         -1          0          0          0          0          1          0          1          0          0          0          0          0          0          0         -1          0          0          0          0         -1          0          0          0          0          0          0         -1          0          0          0          1          0          0          0         -1          0          0          0          0          0          0          0          0         -1          0          0          0          0          1          0         -1          0          0          0          1          0          0          0          1          0          0          0          0          0         -1\n",
      "WOODBRIDGE STRIKERS WOMEN              0          0          0          0         -1         -1          0          0          0          0          0          0          0          0          1          0          0          0          0          1          0          0          0          0          1          0         -1          0          0          0          1          0          0          0          0          0          0          1          0          0          1          0          0          1          0          0          0          0          0          0          0          0          0          1          1          0          0          0          0          0         -1          0          0          0          0          0         -1          0          0          0          0         -1          0          0          0          0          0          0          1          0          0          1          0          0          0          0          0          0          0          1\n",
      "BLUE DEVILS FC WOMEN                   0          0         -1          0          0          0          0          0         -1          0          0          0         -1          0          0          0          0          0          0         -1          0          0          0         -1          0          0          0         -1          0          0          0         -1          0          0          0          0          0          0         -1          0          0          0          0          0          0         -1          0         -1          0          0         -1          0          0          0          0          0          0         -1          0          0          0          0         -1          0          0          0          0         -1          0          0         -1          0          0          0          0          0          0          0         -1          0          0          0          0         -1          0          0          0          0         -1          0\n"
     ]
    }
   ],
   "source": [
    "print(X_df.T.to_string())"
   ]
  },
  {
   "cell_type": "code",
   "execution_count": 114,
   "id": "38172136",
   "metadata": {},
   "outputs": [
    {
     "name": "stdout",
     "output_type": "stream",
     "text": [
      "                               ALLIANCE UNITED WOMEN  FC LONDON WOMEN  GUELPH UNITED WOMEN  NDC ONTARIO WOMEN  NORTH MISSISSAUGA SC WOMEN  NORTH TORONTO WOMEN  SIMCOE COUNTY ROVERS FC WOMEN  VAUGHAN AZZURRI WOMEN  WOODBRIDGE STRIKERS WOMEN  BLUE DEVILS FC WOMEN\n",
      "ALLIANCE UNITED WOMEN                             18               -2                   -2                 -2                          -2                   -2                             -2                     -2                         -2                    -2\n",
      "FC LONDON WOMEN                                   -2               18                   -2                 -2                          -2                   -2                             -2                     -2                         -2                    -2\n",
      "GUELPH UNITED WOMEN                               -2               -2                   18                 -2                          -2                   -2                             -2                     -2                         -2                    -2\n",
      "NDC ONTARIO WOMEN                                 -2               -2                   -2                 18                          -2                   -2                             -2                     -2                         -2                    -2\n",
      "NORTH MISSISSAUGA SC WOMEN                        -2               -2                   -2                 -2                          18                   -2                             -2                     -2                         -2                    -2\n",
      "NORTH TORONTO WOMEN                               -2               -2                   -2                 -2                          -2                   18                             -2                     -2                         -2                    -2\n",
      "SIMCOE COUNTY ROVERS FC WOMEN                     -2               -2                   -2                 -2                          -2                   -2                             18                     -2                         -2                    -2\n",
      "VAUGHAN AZZURRI WOMEN                             -2               -2                   -2                 -2                          -2                   -2                             -2                     18                         -2                    -2\n",
      "WOODBRIDGE STRIKERS WOMEN                         -2               -2                   -2                 -2                          -2                   -2                             -2                     -2                         18                    -2\n",
      "BLUE DEVILS FC WOMEN                              -2               -2                   -2                 -2                          -2                   -2                             -2                     -2                         -2                    18\n"
     ]
    }
   ],
   "source": [
    "M = (X.T).dot(X)\n",
    "M_df = pd.DataFrame(M, index=teams, columns=teams)\n",
    "print(M_df.to_string())"
   ]
  },
  {
   "cell_type": "code",
   "execution_count": 115,
   "id": "7a45d1e9",
   "metadata": {},
   "outputs": [
    {
     "name": "stdout",
     "output_type": "stream",
     "text": [
      "                               ALLIANCE UNITED WOMEN  FC LONDON WOMEN  GUELPH UNITED WOMEN  NDC ONTARIO WOMEN  NORTH MISSISSAUGA SC WOMEN  NORTH TORONTO WOMEN  SIMCOE COUNTY ROVERS FC WOMEN  VAUGHAN AZZURRI WOMEN  WOODBRIDGE STRIKERS WOMEN  BLUE DEVILS FC WOMEN\n",
      "ALLIANCE UNITED WOMEN                             18               -2                   -2                 -2                          -2                   -2                             -2                     -2                         -2                    -2\n",
      "FC LONDON WOMEN                                   -2               18                   -2                 -2                          -2                   -2                             -2                     -2                         -2                    -2\n",
      "GUELPH UNITED WOMEN                               -2               -2                   18                 -2                          -2                   -2                             -2                     -2                         -2                    -2\n",
      "NDC ONTARIO WOMEN                                 -2               -2                   -2                 18                          -2                   -2                             -2                     -2                         -2                    -2\n",
      "NORTH MISSISSAUGA SC WOMEN                        -2               -2                   -2                 -2                          18                   -2                             -2                     -2                         -2                    -2\n",
      "NORTH TORONTO WOMEN                               -2               -2                   -2                 -2                          -2                   18                             -2                     -2                         -2                    -2\n",
      "SIMCOE COUNTY ROVERS FC WOMEN                     -2               -2                   -2                 -2                          -2                   -2                             18                     -2                         -2                    -2\n",
      "VAUGHAN AZZURRI WOMEN                             -2               -2                   -2                 -2                          -2                   -2                             -2                     18                         -2                    -2\n",
      "WOODBRIDGE STRIKERS WOMEN                         -2               -2                   -2                 -2                          -2                   -2                             -2                     -2                         18                    -2\n",
      "BLUE DEVILS FC WOMEN                               1                1                    1                  1                           1                    1                              1                      1                          1                     1\n"
     ]
    }
   ],
   "source": [
    "M_bar = M.copy()\n",
    "M_bar[-1,:] = np.ones(M.shape[0])\n",
    "M_bar\n",
    "M_bar_df = pd.DataFrame(M_bar, index=teams, columns=teams)\n",
    "print(M_bar_df.to_string())"
   ]
  },
  {
   "cell_type": "code",
   "execution_count": 116,
   "id": "136dd6f9",
   "metadata": {},
   "outputs": [
    {
     "name": "stdout",
     "output_type": "stream",
     "text": [
      "                               GD\n",
      "ALLIANCE UNITED WOMEN         -11\n",
      "FC LONDON WOMEN                29\n",
      "GUELPH UNITED WOMEN             6\n",
      "NDC ONTARIO WOMEN              30\n",
      "NORTH MISSISSAUGA SC WOMEN    -21\n",
      "NORTH TORONTO WOMEN            15\n",
      "SIMCOE COUNTY ROVERS FC WOMEN  -3\n",
      "VAUGHAN AZZURRI WOMEN          -2\n",
      "WOODBRIDGE STRIKERS WOMEN      16\n",
      "BLUE DEVILS FC WOMEN            0\n"
     ]
    }
   ],
   "source": [
    "p = np.array(helpers.buildGDArray(scores_list, teams_list))\n",
    "p_bar = p\n",
    "p_bar[-1] = 0\n",
    "p_bar_df = pd.DataFrame(p_bar, index=teams, columns=['GD'])\n",
    "print(p_bar_df.to_string())"
   ]
  },
  {
   "cell_type": "code",
   "execution_count": 117,
   "id": "f753ceac",
   "metadata": {},
   "outputs": [
    {
     "name": "stdout",
     "output_type": "stream",
     "text": [
      "                               GD with limited blowouts\n",
      "ALLIANCE UNITED WOMEN                                -7\n",
      "FC LONDON WOMEN                                      20\n",
      "GUELPH UNITED WOMEN                                   2\n",
      "NDC ONTARIO WOMEN                                    26\n",
      "NORTH MISSISSAUGA SC WOMEN                          -20\n",
      "NORTH TORONTO WOMEN                                  15\n",
      "SIMCOE COUNTY ROVERS FC WOMEN                        -3\n",
      "VAUGHAN AZZURRI WOMEN                                -2\n",
      "WOODBRIDGE STRIKERS WOMEN                             8\n",
      "BLUE DEVILS FC WOMEN                                  0\n"
     ]
    }
   ],
   "source": [
    "# gd vector with blowouts accounted for\n",
    "p_bw = np.array(helpers.buildGDArray(scores_list, teams_list, 3))\n",
    "p_bar_bw = p_bw\n",
    "p_bar_bw[-1] = 0\n",
    "p_bar_bw_df = pd.DataFrame(p_bar_bw, index=teams, columns=['GD with limited blowouts'])\n",
    "print(p_bar_bw_df.to_string())"
   ]
  },
  {
   "cell_type": "code",
   "execution_count": 118,
   "id": "ea4cb935",
   "metadata": {},
   "outputs": [
    {
     "name": "stdout",
     "output_type": "stream",
     "text": [
      "                               Massey Rating\n",
      "NDC ONTARIO WOMEN                       1.50\n",
      "FC LONDON WOMEN                         1.45\n",
      "WOODBRIDGE STRIKERS WOMEN               0.80\n",
      "NORTH TORONTO WOMEN                     0.75\n",
      "GUELPH UNITED WOMEN                     0.30\n",
      "VAUGHAN AZZURRI WOMEN                  -0.10\n",
      "SIMCOE COUNTY ROVERS FC WOMEN          -0.15\n",
      "ALLIANCE UNITED WOMEN                  -0.55\n",
      "NORTH MISSISSAUGA SC WOMEN             -1.05\n",
      "BLUE DEVILS FC WOMEN                   -2.95\n"
     ]
    }
   ],
   "source": [
    "r = np.linalg.inv(M_bar).dot(p_bar)\n",
    "r_df = pd.DataFrame(r, index=teams, columns=['Massey Rating']).sort_values(by=['Massey Rating'], ascending=False)\n",
    "print(r_df)"
   ]
  },
  {
   "cell_type": "code",
   "execution_count": 119,
   "id": "1b82adcf",
   "metadata": {},
   "outputs": [
    {
     "name": "stdout",
     "output_type": "stream",
     "text": [
      "                               Massey Rating\n",
      "NDC ONTARIO WOMEN                       1.30\n",
      "FC LONDON WOMEN                         1.00\n",
      "NORTH TORONTO WOMEN                     0.75\n",
      "WOODBRIDGE STRIKERS WOMEN               0.40\n",
      "GUELPH UNITED WOMEN                     0.10\n",
      "VAUGHAN AZZURRI WOMEN                  -0.10\n",
      "SIMCOE COUNTY ROVERS FC WOMEN          -0.15\n",
      "ALLIANCE UNITED WOMEN                  -0.35\n",
      "NORTH MISSISSAUGA SC WOMEN             -1.00\n",
      "BLUE DEVILS FC WOMEN                   -1.95\n"
     ]
    }
   ],
   "source": [
    "r = np.linalg.inv(M_bar).dot(p_bar_bw)\n",
    "r_df = pd.DataFrame(r, index=teams, columns=['Massey Rating']).sort_values(by=['Massey Rating'], ascending=False)\n",
    "print(r_df)"
   ]
  }
 ],
 "metadata": {
  "kernelspec": {
   "display_name": "3.12.1",
   "language": "python",
   "name": "python3"
  },
  "language_info": {
   "codemirror_mode": {
    "name": "ipython",
    "version": 3
   },
   "file_extension": ".py",
   "mimetype": "text/x-python",
   "name": "python",
   "nbconvert_exporter": "python",
   "pygments_lexer": "ipython3",
   "version": "3.12.1"
  }
 },
 "nbformat": 4,
 "nbformat_minor": 5
}
