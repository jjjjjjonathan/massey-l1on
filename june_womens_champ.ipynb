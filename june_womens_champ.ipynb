{
 "cells": [
  {
   "cell_type": "markdown",
   "id": "542c1dd4",
   "metadata": {},
   "source": [
    "Pickering\tOakville\t0\t2\n",
    "Tecumseh\tWhitby\t0\t2\n",
    "Rush\tPickering\t2\t8\n",
    "Scrosoppi\tOakville\t1\t0\n",
    "Tecumseh\tHamilton\t0\t1\n",
    "Burlington\tUMSC\t1\t6\n",
    "Whitby\tUMSC\t0\t1\n",
    "Burlington\tTecumseh\t0\t2\n",
    "Hamilton\tScrosoppi\t1\t0\n",
    "Oakville\tRush\t1\t1\n",
    "Scrosoppi\tPickering\t4\t2\n",
    "Whitby\tBurlington\t3\t2\n",
    "UMSC\tHamilton\t1\t4\n",
    "Tecumseh\tRush\t2\t4\n",
    "Burlington\tHamilton\t0\t1\n",
    "Whitby\tOakville\t1\t0\n",
    "UMSC\tPickering\t0\t1\n"
   ]
  },
  {
   "cell_type": "code",
   "execution_count": 12,
   "id": "76d25544",
   "metadata": {},
   "outputs": [],
   "source": [
    "pickering = 0\n",
    "oakville = 1\n",
    "tecumseh = 2\n",
    "whitby = 3\n",
    "rush = 4\n",
    "scrosoppi = 5\n",
    "hamilton = 6\n",
    "burlington = 7\n",
    "umsc = 8\n",
    "\n",
    "matches = [\n",
    "  [oakville, pickering, 2],\n",
    "  [whitby, tecumseh, 2],\n",
    "  [pickering, rush, 6],\n",
    "  [scrosoppi, oakville, 1],\n",
    "  [hamilton, tecumseh, 1],\n",
    "  [umsc, burlington, 5],\n",
    "  [umsc, whitby, 1],\n",
    "  [tecumseh, burlington, 2],\n",
    "  [hamilton, scrosoppi, 1],\n",
    "  [oakville, rush, 0],\n",
    "  [scrosoppi, pickering, 2],\n",
    "  [whitby, burlington, 1],\n",
    "  [hamilton, umsc, 3],\n",
    "  [rush, tecumseh, 2],\n",
    "  [hamilton, burlington, 1],\n",
    "  [whitby, oakville, 1],\n",
    "  [pickering, umsc, 1]\n",
    "]"
   ]
  },
  {
   "cell_type": "code",
   "execution_count": 13,
   "id": "d05708e9",
   "metadata": {},
   "outputs": [
    {
     "name": "stdout",
     "output_type": "stream",
     "text": [
      "[[-1.  1.  0.  0.  0.  0.  0.  0.  0.]\n",
      " [ 0.  0. -1.  1.  0.  0.  0.  0.  0.]\n",
      " [ 1.  0.  0.  0. -1.  0.  0.  0.  0.]\n",
      " [ 0. -1.  0.  0.  0.  1.  0.  0.  0.]\n",
      " [ 0.  0. -1.  0.  0.  0.  1.  0.  0.]\n",
      " [ 0.  0.  0.  0.  0.  0.  0. -1.  1.]\n",
      " [ 0.  0.  0. -1.  0.  0.  0.  0.  1.]\n",
      " [ 0.  0.  1.  0.  0.  0.  0. -1.  0.]\n",
      " [ 0.  0.  0.  0.  0. -1.  1.  0.  0.]\n",
      " [ 0.  1.  0.  0. -1.  0.  0.  0.  0.]\n",
      " [-1.  0.  0.  0.  0.  1.  0.  0.  0.]\n",
      " [ 0.  0.  0.  1.  0.  0.  0. -1.  0.]\n",
      " [ 0.  0.  0.  0.  0.  0.  1.  0. -1.]\n",
      " [ 0.  0. -1.  0.  1.  0.  0.  0.  0.]\n",
      " [ 0.  0.  0.  0.  0.  0.  1. -1.  0.]\n",
      " [ 0. -1.  0.  1.  0.  0.  0.  0.  0.]\n",
      " [ 1.  0.  0.  0.  0.  0.  0.  0. -1.]]\n"
     ]
    }
   ],
   "source": [
    "import numpy as np\n",
    "\n",
    "def buildGamesMatrix(games, num_teams):\n",
    "  M = np.zeros([len(games), num_teams])\n",
    "  row = 0\n",
    "  for g in games:\n",
    "    M[row, g[0]] = 1\n",
    "    M[row, g[1]] = -1\n",
    "    row += 1\n",
    "  return M\n",
    "\n",
    "M = buildGamesMatrix(matches,9)\n",
    "print(M)"
   ]
  },
  {
   "cell_type": "code",
   "execution_count": 14,
   "id": "c68bd5d6",
   "metadata": {},
   "outputs": [
    {
     "name": "stdout",
     "output_type": "stream",
     "text": [
      "[2. 2. 6. 1. 1. 5. 1. 2. 1. 0. 2. 1. 3. 2. 1. 1. 1.]\n"
     ]
    }
   ],
   "source": [
    "def buildOutcomes(games):\n",
    "  E = np.zeros([len(games)])\n",
    "  row = 0\n",
    "  for g in games:\n",
    "    E[row] = g[2]\n",
    "    row += 1\n",
    "  return E\n",
    "\n",
    "E = buildOutcomes(matches)\n",
    "print(E)"
   ]
  },
  {
   "cell_type": "code",
   "execution_count": 15,
   "id": "296ec352",
   "metadata": {},
   "outputs": [
    {
     "name": "stdout",
     "output_type": "stream",
     "text": [
      "[ 1.0210417   0.33568345 -1.2827786   0.12286167 -1.30868448  1.50751489\n",
      "  1.16581953 -2.11111111  0.54965295]\n"
     ]
    }
   ],
   "source": [
    "bh = np.linalg.lstsq(M,E)[0]\n",
    "\n",
    "print(bh)"
   ]
  }
 ],
 "metadata": {
  "kernelspec": {
   "display_name": "3.12.1",
   "language": "python",
   "name": "python3"
  },
  "language_info": {
   "codemirror_mode": {
    "name": "ipython",
    "version": 3
   },
   "file_extension": ".py",
   "mimetype": "text/x-python",
   "name": "python",
   "nbconvert_exporter": "python",
   "pygments_lexer": "ipython3",
   "version": "3.12.1"
  }
 },
 "nbformat": 4,
 "nbformat_minor": 5
}
