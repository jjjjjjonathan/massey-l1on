{
 "cells": [
  {
   "cell_type": "code",
   "execution_count": 3,
   "id": "76737da7",
   "metadata": {},
   "outputs": [],
   "source": [
    "import numpy as np\n",
    "import pandas as pd\n",
    "import helpers"
   ]
  },
  {
   "cell_type": "code",
   "execution_count": 4,
   "id": "ee62b7bb",
   "metadata": {},
   "outputs": [
    {
     "data": {
      "text/html": [
       "<div>\n",
       "<style scoped>\n",
       "    .dataframe tbody tr th:only-of-type {\n",
       "        vertical-align: middle;\n",
       "    }\n",
       "\n",
       "    .dataframe tbody tr th {\n",
       "        vertical-align: top;\n",
       "    }\n",
       "\n",
       "    .dataframe thead th {\n",
       "        text-align: right;\n",
       "    }\n",
       "</style>\n",
       "<table border=\"1\" class=\"dataframe\">\n",
       "  <thead>\n",
       "    <tr style=\"text-align: right;\">\n",
       "      <th></th>\n",
       "      <th>Club ID</th>\n",
       "      <th>Club</th>\n",
       "    </tr>\n",
       "  </thead>\n",
       "  <tbody>\n",
       "    <tr>\n",
       "      <th>0</th>\n",
       "      <td>175734</td>\n",
       "      <td>THE BOROUGH FC MEN</td>\n",
       "    </tr>\n",
       "    <tr>\n",
       "      <th>1</th>\n",
       "      <td>175326</td>\n",
       "      <td>GUELPH UNITED MEN</td>\n",
       "    </tr>\n",
       "    <tr>\n",
       "      <th>2</th>\n",
       "      <td>175331</td>\n",
       "      <td>HAMILTON UNITED MEN</td>\n",
       "    </tr>\n",
       "    <tr>\n",
       "      <th>3</th>\n",
       "      <td>175387</td>\n",
       "      <td>MASTER'S FA MEN</td>\n",
       "    </tr>\n",
       "    <tr>\n",
       "      <th>4</th>\n",
       "      <td>175391</td>\n",
       "      <td>NORTH MISSISSAUGA SC MEN</td>\n",
       "    </tr>\n",
       "    <tr>\n",
       "      <th>5</th>\n",
       "      <td>175414</td>\n",
       "      <td>PICKERING FC MEN</td>\n",
       "    </tr>\n",
       "    <tr>\n",
       "      <th>6</th>\n",
       "      <td>176208</td>\n",
       "      <td>SUDBURY CYCLONES MEN</td>\n",
       "    </tr>\n",
       "    <tr>\n",
       "      <th>7</th>\n",
       "      <td>175408</td>\n",
       "      <td>UNIONVILLE MILLIKEN SC MEN</td>\n",
       "    </tr>\n",
       "    <tr>\n",
       "      <th>8</th>\n",
       "      <td>183406</td>\n",
       "      <td>WATERLOO UNITED MEN</td>\n",
       "    </tr>\n",
       "    <tr>\n",
       "      <th>9</th>\n",
       "      <td>183408</td>\n",
       "      <td>WHITBY FC MEN</td>\n",
       "    </tr>\n",
       "    <tr>\n",
       "      <th>10</th>\n",
       "      <td>175405</td>\n",
       "      <td>WINDSOR CITY FC MEN</td>\n",
       "    </tr>\n",
       "    <tr>\n",
       "      <th>11</th>\n",
       "      <td>183189</td>\n",
       "      <td>YORK UNITED ACADEMY MEN</td>\n",
       "    </tr>\n",
       "  </tbody>\n",
       "</table>\n",
       "</div>"
      ],
      "text/plain": [
       "    Club ID                        Club\n",
       "0    175734          THE BOROUGH FC MEN\n",
       "1    175326           GUELPH UNITED MEN\n",
       "2    175331         HAMILTON UNITED MEN\n",
       "3    175387             MASTER'S FA MEN\n",
       "4    175391    NORTH MISSISSAUGA SC MEN\n",
       "5    175414            PICKERING FC MEN\n",
       "6    176208        SUDBURY CYCLONES MEN\n",
       "7    175408  UNIONVILLE MILLIKEN SC MEN\n",
       "8    183406         WATERLOO UNITED MEN\n",
       "9    183408               WHITBY FC MEN\n",
       "10   175405         WINDSOR CITY FC MEN\n",
       "11   183189     YORK UNITED ACADEMY MEN"
      ]
     },
     "execution_count": 4,
     "metadata": {},
     "output_type": "execute_result"
    }
   ],
   "source": [
    "teams_df = pd.read_csv('data/2025/mens_champ_teams.csv')\n",
    "teams_df"
   ]
  },
  {
   "cell_type": "code",
   "execution_count": 5,
   "id": "fe9e4f57",
   "metadata": {},
   "outputs": [
    {
     "data": {
      "text/html": [
       "<div>\n",
       "<style scoped>\n",
       "    .dataframe tbody tr th:only-of-type {\n",
       "        vertical-align: middle;\n",
       "    }\n",
       "\n",
       "    .dataframe tbody tr th {\n",
       "        vertical-align: top;\n",
       "    }\n",
       "\n",
       "    .dataframe thead th {\n",
       "        text-align: right;\n",
       "    }\n",
       "</style>\n",
       "<table border=\"1\" class=\"dataframe\">\n",
       "  <thead>\n",
       "    <tr style=\"text-align: right;\">\n",
       "      <th></th>\n",
       "      <th>Match ID</th>\n",
       "      <th>Home result</th>\n",
       "      <th>Away result</th>\n",
       "      <th>Home team</th>\n",
       "      <th>Away team</th>\n",
       "    </tr>\n",
       "  </thead>\n",
       "  <tbody>\n",
       "    <tr>\n",
       "      <th>0</th>\n",
       "      <td>261900659</td>\n",
       "      <td>0</td>\n",
       "      <td>1</td>\n",
       "      <td>183189</td>\n",
       "      <td>176208</td>\n",
       "    </tr>\n",
       "    <tr>\n",
       "      <th>1</th>\n",
       "      <td>261900660</td>\n",
       "      <td>0</td>\n",
       "      <td>3</td>\n",
       "      <td>175405</td>\n",
       "      <td>175408</td>\n",
       "    </tr>\n",
       "    <tr>\n",
       "      <th>2</th>\n",
       "      <td>261900661</td>\n",
       "      <td>1</td>\n",
       "      <td>1</td>\n",
       "      <td>183408</td>\n",
       "      <td>175734</td>\n",
       "    </tr>\n",
       "    <tr>\n",
       "      <th>3</th>\n",
       "      <td>261900662</td>\n",
       "      <td>3</td>\n",
       "      <td>0</td>\n",
       "      <td>175391</td>\n",
       "      <td>175331</td>\n",
       "    </tr>\n",
       "    <tr>\n",
       "      <th>4</th>\n",
       "      <td>261900663</td>\n",
       "      <td>1</td>\n",
       "      <td>0</td>\n",
       "      <td>175387</td>\n",
       "      <td>183406</td>\n",
       "    </tr>\n",
       "    <tr>\n",
       "      <th>...</th>\n",
       "      <td>...</td>\n",
       "      <td>...</td>\n",
       "      <td>...</td>\n",
       "      <td>...</td>\n",
       "      <td>...</td>\n",
       "    </tr>\n",
       "    <tr>\n",
       "      <th>64</th>\n",
       "      <td>261900725</td>\n",
       "      <td>0</td>\n",
       "      <td>1</td>\n",
       "      <td>183406</td>\n",
       "      <td>175408</td>\n",
       "    </tr>\n",
       "    <tr>\n",
       "      <th>65</th>\n",
       "      <td>261900727</td>\n",
       "      <td>1</td>\n",
       "      <td>0</td>\n",
       "      <td>183189</td>\n",
       "      <td>175387</td>\n",
       "    </tr>\n",
       "    <tr>\n",
       "      <th>66</th>\n",
       "      <td>261900728</td>\n",
       "      <td>1</td>\n",
       "      <td>0</td>\n",
       "      <td>175405</td>\n",
       "      <td>175391</td>\n",
       "    </tr>\n",
       "    <tr>\n",
       "      <th>67</th>\n",
       "      <td>261900729</td>\n",
       "      <td>4</td>\n",
       "      <td>0</td>\n",
       "      <td>183408</td>\n",
       "      <td>175414</td>\n",
       "    </tr>\n",
       "    <tr>\n",
       "      <th>68</th>\n",
       "      <td>261900744</td>\n",
       "      <td>1</td>\n",
       "      <td>1</td>\n",
       "      <td>175331</td>\n",
       "      <td>175387</td>\n",
       "    </tr>\n",
       "  </tbody>\n",
       "</table>\n",
       "<p>69 rows × 5 columns</p>\n",
       "</div>"
      ],
      "text/plain": [
       "     Match ID  Home result  Away result  Home team  Away team\n",
       "0   261900659            0            1     183189     176208\n",
       "1   261900660            0            3     175405     175408\n",
       "2   261900661            1            1     183408     175734\n",
       "3   261900662            3            0     175391     175331\n",
       "4   261900663            1            0     175387     183406\n",
       "..        ...          ...          ...        ...        ...\n",
       "64  261900725            0            1     183406     175408\n",
       "65  261900727            1            0     183189     175387\n",
       "66  261900728            1            0     175405     175391\n",
       "67  261900729            4            0     183408     175414\n",
       "68  261900744            1            1     175331     175387\n",
       "\n",
       "[69 rows x 5 columns]"
      ]
     },
     "execution_count": 5,
     "metadata": {},
     "output_type": "execute_result"
    }
   ],
   "source": [
    "scores_df = pd.read_csv('data/2025/2025-06-28_mens_champ_results.csv')\n",
    "scores_df\n"
   ]
  },
  {
   "cell_type": "code",
   "execution_count": 6,
   "id": "c2e7d1cf",
   "metadata": {},
   "outputs": [],
   "source": [
    "scores_list = scores_df.to_numpy()\n",
    "teams_list = teams_df.to_numpy()\n",
    "\n",
    "X = np.array(helpers.buildScoresArray(scores_list, teams_list))"
   ]
  },
  {
   "cell_type": "code",
   "execution_count": 7,
   "id": "d05708e9",
   "metadata": {},
   "outputs": [
    {
     "name": "stdout",
     "output_type": "stream",
     "text": [
      "           THE BOROUGH FC MEN  GUELPH UNITED MEN  HAMILTON UNITED MEN  MASTER'S FA MEN  NORTH MISSISSAUGA SC MEN  PICKERING FC MEN  SUDBURY CYCLONES MEN  UNIONVILLE MILLIKEN SC MEN  WATERLOO UNITED MEN  WHITBY FC MEN  WINDSOR CITY FC MEN  YORK UNITED ACADEMY MEN\n",
      "261900659                   0                  0                    0                0                         0                 0                     1                           0                    0              0                    0                       -1\n",
      "261900660                   0                  0                    0                0                         0                 0                     0                           1                    0              0                   -1                        0\n",
      "261900661                  -1                  0                    0                0                         0                 0                     0                           0                    0              1                    0                        0\n",
      "261900662                   0                  0                   -1                0                         1                 0                     0                           0                    0              0                    0                        0\n",
      "261900663                   0                  0                    0                1                         0                 0                     0                           0                   -1              0                    0                        0\n",
      "261900664                   0                 -1                    0                0                         0                 1                     0                           0                    0              0                    0                        0\n",
      "261900665                   0                  0                   -1                0                         0                 0                     0                           0                    0              1                    0                        0\n",
      "261900666                   1                  0                    0               -1                         0                 0                     0                           0                    0              0                    0                        0\n",
      "261900667                   0                  0                    0                0                         0                -1                     1                           0                    0              0                    0                        0\n",
      "261900668                   0                  1                    0                0                         0                 0                     0                           0                    0              0                   -1                        0\n",
      "261900669                   0                  0                    0                0                         0                 0                     0                           0                   -1              0                    0                        1\n",
      "261900670                   0                  0                    0                0                         1                 0                     0                          -1                    0              0                    0                        0\n",
      "261900671                   0                  0                    0                0                         0                 0                     0                           0                   -1              1                    0                        0\n",
      "261900672                   0                  0                    0               -1                         1                 0                     0                           0                    0              0                    0                        0\n",
      "261900673                   0                  0                   -1                0                         0                 1                     0                           0                    0              0                    0                        0\n",
      "261900674                   1                  0                    0                0                         0                 0                     0                           0                    0              0                   -1                        0\n",
      "261900675                   0                 -1                    0                0                         0                 0                     1                           0                    0              0                    0                        0\n",
      "261900676                   0                  0                    0                0                         0                 0                     0                           1                    0              0                    0                       -1\n",
      "261900677                   0                  0                    0                0                         0                 0                     0                           0                    0             -1                    1                        0\n",
      "261900678                  -1                  0                    0                0                         0                 0                     0                           0                    0              0                    0                        1\n",
      "261900680                   0                  0                   -1                0                         0                 0                     1                           0                    0              0                    0                        0\n",
      "261900681                   0                  0                    0                1                         0                -1                     0                           0                    0              0                    0                        0\n",
      "261900682                   0                  0                    0                0                        -1                 0                     0                           0                    1              0                    0                        0\n",
      "261900683                   0                  0                    0                0                         0                 0                     1                           0                    0             -1                    0                        0\n",
      "261900684                   1                  0                    0                0                         0                 0                     0                          -1                    0              0                    0                        0\n",
      "261900685                   0                  0                   -1                0                         0                 0                     0                           0                    1              0                    0                        0\n",
      "261900686                   0                  0                    0                0                         0                 1                     0                           0                    0              0                   -1                        0\n",
      "261900687                   0                  0                    0                0                        -1                 0                     0                           0                    0              0                    0                        1\n",
      "261900688                   0                 -1                    0                1                         0                 0                     0                           0                    0              0                    0                        0\n",
      "261900689                   1                  0                    0                0                         0                 0                     0                          -1                    0              0                    0                        0\n",
      "261900690                   0                  0                   -1                0                         0                 0                     0                           0                    1              0                    0                        0\n",
      "261900691                   0                  0                    0                0                         0                -1                     0                           0                    0              0                    1                        0\n",
      "261900692                   0                  0                    0                0                         1                 0                     0                           0                    0              0                    0                       -1\n",
      "261900693                   0                  1                    0               -1                         0                 0                     0                           0                    0              0                    0                        0\n",
      "261900694                   0                  0                    0                0                         0                 0                     1                           0                    0             -1                    0                        0\n",
      "261900695                   0                  0                    0                0                         0                 0                     0                           0                    0              0                   -1                        1\n",
      "261900696                   0                  0                    0                0                         0                -1                     0                           0                    1              0                    0                        0\n",
      "261900697                   1                  0                   -1                0                         0                 0                     0                           0                    0              0                    0                        0\n",
      "261900698                   0                  0                    0                1                         0                 0                     0                          -1                    0              0                    0                        0\n",
      "261900699                   0                  0                    0                0                         1                 0                    -1                           0                    0              0                    0                        0\n",
      "261900700                   0                  1                    0                0                         0                 0                     0                           0                    0             -1                    0                        0\n",
      "261900702                   0                  0                    0               -1                         0                 0                     0                           0                    0              0                    0                        1\n",
      "261900703                   0                  0                    0                0                         1                 0                     0                           0                    0              0                   -1                        0\n",
      "261900704                   0                  0                    0                0                         0                 1                     0                           0                    0             -1                    0                        0\n",
      "261900705                  -1                  0                    0                0                         0                 0                     1                           0                    0              0                    0                        0\n",
      "261900706                   0                  0                    0                0                         0                 0                     0                           1                   -1              0                    0                        0\n",
      "261900707                   0                  1                    0                0                         0                 0                     0                           0                    0              0                    0                       -1\n",
      "261900708                   0                  0                   -1                0                         0                 0                     0                           0                    0              0                    1                        0\n",
      "261900709                   0                  0                    0                1                         0                 0                     0                           0                    0             -1                    0                        0\n",
      "261900710                   0                  0                    0                0                         0                 0                    -1                           0                    1              0                    0                        0\n",
      "261900711                   0                  0                    0                0                         0                 1                     0                          -1                    0              0                    0                        0\n",
      "261900712                   1                  0                    0                0                        -1                 0                     0                           0                    0              0                    0                        0\n",
      "261900713                   0                  0                   -1                1                         0                 0                     0                           0                    0              0                    0                        0\n",
      "261900714                  -1                  0                    0                0                         0                 0                     0                           0                    1              0                    0                        0\n",
      "261900715                   0                  0                    0                0                         0                 1                     0                           0                    0              0                    0                       -1\n",
      "261900716                   0                  0                    0                0                         0                 0                     1                           0                    0              0                   -1                        0\n",
      "261900717                   0                  0                    0                0                         0                 0                     0                           1                    0             -1                    0                        0\n",
      "261900718                   0                  1                    0                0                        -1                 0                     0                           0                    0              0                    0                        0\n",
      "261900719                   1                  0                    0                0                        -1                 0                     0                           0                    0              0                    0                        0\n",
      "261900720                   0                 -1                    0                0                         0                 0                     0                           0                    0              0                    0                        1\n",
      "261900721                   0                  0                   -1                0                         0                 0                     0                           0                    0              0                    1                        0\n",
      "261900722                   0                  0                    0               -1                         0                 0                     0                           0                    0              1                    0                        0\n",
      "261900723                   0                  0                    0                0                         0                 0                     1                           0                   -1              0                    0                        0\n",
      "261900724                   0                  0                    0                0                         0                -1                     0                           1                    0              0                    0                        0\n",
      "261900725                   0                  0                    0                0                         0                 0                     0                           1                   -1              0                    0                        0\n",
      "261900727                   0                  0                    0               -1                         0                 0                     0                           0                    0              0                    0                        1\n",
      "261900728                   0                  0                    0                0                        -1                 0                     0                           0                    0              0                    1                        0\n",
      "261900729                   0                  0                    0                0                         0                -1                     0                           0                    0              1                    0                        0\n",
      "261900744                   0                  0                    1               -1                         0                 0                     0                           0                    0              0                    0                        0\n"
     ]
    }
   ],
   "source": [
    "teams = teams_df['Club'].tolist()\n",
    "match_ids = scores_df['Match ID'].tolist()\n",
    "\n",
    "X_df = pd.DataFrame(X, index=match_ids, columns=teams)\n",
    "print(X_df.to_string())"
   ]
  },
  {
   "cell_type": "code",
   "execution_count": 8,
   "id": "cbc664fc",
   "metadata": {},
   "outputs": [
    {
     "name": "stdout",
     "output_type": "stream",
     "text": [
      "                            261900659  261900660  261900661  261900662  261900663  261900664  261900665  261900666  261900667  261900668  261900669  261900670  261900671  261900672  261900673  261900674  261900675  261900676  261900677  261900678  261900680  261900681  261900682  261900683  261900684  261900685  261900686  261900687  261900688  261900689  261900690  261900691  261900692  261900693  261900694  261900695  261900696  261900697  261900698  261900699  261900700  261900702  261900703  261900704  261900705  261900706  261900707  261900708  261900709  261900710  261900711  261900712  261900713  261900714  261900715  261900716  261900717  261900718  261900719  261900720  261900721  261900722  261900723  261900724  261900725  261900727  261900728  261900729  261900744\n",
      "THE BOROUGH FC MEN                  0          0         -1          0          0          0          0          1          0          0          0          0          0          0          0          1          0          0          0         -1          0          0          0          0          1          0          0          0          0          1          0          0          0          0          0          0          0          1          0          0          0          0          0          0         -1          0          0          0          0          0          0          1          0         -1          0          0          0          0          1          0          0          0          0          0          0          0          0          0          0\n",
      "GUELPH UNITED MEN                   0          0          0          0          0         -1          0          0          0          1          0          0          0          0          0          0         -1          0          0          0          0          0          0          0          0          0          0          0         -1          0          0          0          0          1          0          0          0          0          0          0          1          0          0          0          0          0          1          0          0          0          0          0          0          0          0          0          0          1          0         -1          0          0          0          0          0          0          0          0          0\n",
      "HAMILTON UNITED MEN                 0          0          0         -1          0          0         -1          0          0          0          0          0          0          0         -1          0          0          0          0          0         -1          0          0          0          0         -1          0          0          0          0         -1          0          0          0          0          0          0         -1          0          0          0          0          0          0          0          0          0         -1          0          0          0          0         -1          0          0          0          0          0          0          0         -1          0          0          0          0          0          0          0          1\n",
      "MASTER'S FA MEN                     0          0          0          0          1          0          0         -1          0          0          0          0          0         -1          0          0          0          0          0          0          0          1          0          0          0          0          0          0          1          0          0          0          0         -1          0          0          0          0          1          0          0         -1          0          0          0          0          0          0          1          0          0          0          1          0          0          0          0          0          0          0          0         -1          0          0          0         -1          0          0         -1\n",
      "NORTH MISSISSAUGA SC MEN            0          0          0          1          0          0          0          0          0          0          0          1          0          1          0          0          0          0          0          0          0          0         -1          0          0          0          0         -1          0          0          0          0          1          0          0          0          0          0          0          1          0          0          1          0          0          0          0          0          0          0          0         -1          0          0          0          0          0         -1         -1          0          0          0          0          0          0          0         -1          0          0\n",
      "PICKERING FC MEN                    0          0          0          0          0          1          0          0         -1          0          0          0          0          0          1          0          0          0          0          0          0         -1          0          0          0          0          1          0          0          0          0         -1          0          0          0          0         -1          0          0          0          0          0          0          1          0          0          0          0          0          0          1          0          0          0          1          0          0          0          0          0          0          0          0         -1          0          0          0         -1          0\n",
      "SUDBURY CYCLONES MEN                1          0          0          0          0          0          0          0          1          0          0          0          0          0          0          0          1          0          0          0          1          0          0          1          0          0          0          0          0          0          0          0          0          0          1          0          0          0          0         -1          0          0          0          0          1          0          0          0          0         -1          0          0          0          0          0          1          0          0          0          0          0          0          1          0          0          0          0          0          0\n",
      "UNIONVILLE MILLIKEN SC MEN          0          1          0          0          0          0          0          0          0          0          0         -1          0          0          0          0          0          1          0          0          0          0          0          0         -1          0          0          0          0         -1          0          0          0          0          0          0          0          0         -1          0          0          0          0          0          0          1          0          0          0          0         -1          0          0          0          0          0          1          0          0          0          0          0          0          1          1          0          0          0          0\n",
      "WATERLOO UNITED MEN                 0          0          0          0         -1          0          0          0          0          0         -1          0         -1          0          0          0          0          0          0          0          0          0          1          0          0          1          0          0          0          0          1          0          0          0          0          0          1          0          0          0          0          0          0          0          0         -1          0          0          0          1          0          0          0          1          0          0          0          0          0          0          0          0         -1          0         -1          0          0          0          0\n",
      "WHITBY FC MEN                       0          0          1          0          0          0          1          0          0          0          0          0          1          0          0          0          0          0         -1          0          0          0          0         -1          0          0          0          0          0          0          0          0          0          0         -1          0          0          0          0          0         -1          0          0         -1          0          0          0          0         -1          0          0          0          0          0          0          0         -1          0          0          0          0          1          0          0          0          0          0          1          0\n",
      "WINDSOR CITY FC MEN                 0         -1          0          0          0          0          0          0          0         -1          0          0          0          0          0         -1          0          0          1          0          0          0          0          0          0          0         -1          0          0          0          0          1          0          0          0         -1          0          0          0          0          0          0         -1          0          0          0          0          1          0          0          0          0          0          0          0         -1          0          0          0          0          1          0          0          0          0          0          1          0          0\n",
      "YORK UNITED ACADEMY MEN            -1          0          0          0          0          0          0          0          0          0          1          0          0          0          0          0          0         -1          0          1          0          0          0          0          0          0          0          1          0          0          0          0         -1          0          0          1          0          0          0          0          0          1          0          0          0          0         -1          0          0          0          0          0          0          0         -1          0          0          0          0          1          0          0          0          0          0          1          0          0          0\n"
     ]
    }
   ],
   "source": [
    "print(X_df.T.to_string())"
   ]
  },
  {
   "cell_type": "code",
   "execution_count": 9,
   "id": "38172136",
   "metadata": {},
   "outputs": [
    {
     "name": "stdout",
     "output_type": "stream",
     "text": [
      "                            THE BOROUGH FC MEN  GUELPH UNITED MEN  HAMILTON UNITED MEN  MASTER'S FA MEN  NORTH MISSISSAUGA SC MEN  PICKERING FC MEN  SUDBURY CYCLONES MEN  UNIONVILLE MILLIKEN SC MEN  WATERLOO UNITED MEN  WHITBY FC MEN  WINDSOR CITY FC MEN  YORK UNITED ACADEMY MEN\n",
      "THE BOROUGH FC MEN                          11                  0                   -1               -1                        -2                 0                    -1                          -2                   -1             -1                   -1                       -1\n",
      "GUELPH UNITED MEN                            0                  9                    0               -2                        -1                -1                    -1                           0                    0             -1                   -1                       -2\n",
      "HAMILTON UNITED MEN                         -1                  0                   11               -2                        -1                -1                    -1                           0                   -2             -1                   -2                        0\n",
      "MASTER'S FA MEN                             -1                 -2                   -2               13                        -1                -1                     0                          -1                   -1             -2                    0                       -2\n",
      "NORTH MISSISSAUGA SC MEN                    -2                 -1                   -1               -1                        12                 0                    -1                          -1                   -1              0                   -2                       -2\n",
      "PICKERING FC MEN                             0                 -1                   -1               -1                         0                12                    -1                          -2                   -1             -2                   -2                       -1\n",
      "SUDBURY CYCLONES MEN                        -1                 -1                   -1                0                        -1                -1                    11                           0                   -2             -2                   -1                       -1\n",
      "UNIONVILLE MILLIKEN SC MEN                  -2                  0                    0               -1                        -1                -2                     0                          11                   -2             -1                   -1                       -1\n",
      "WATERLOO UNITED MEN                         -1                  0                   -2               -1                        -1                -1                    -2                          -2                   12             -1                    0                       -1\n",
      "WHITBY FC MEN                               -1                 -1                   -1               -2                         0                -2                    -2                          -1                   -1             12                   -1                        0\n",
      "WINDSOR CITY FC MEN                         -1                 -1                   -2                0                        -2                -2                    -1                          -1                    0             -1                   12                       -1\n",
      "YORK UNITED ACADEMY MEN                     -1                 -2                    0               -2                        -2                -1                    -1                          -1                   -1              0                   -1                       12\n"
     ]
    }
   ],
   "source": [
    "M = (X.T).dot(X)\n",
    "M_df = pd.DataFrame(M, index=teams, columns=teams)\n",
    "print(M_df.to_string())"
   ]
  },
  {
   "cell_type": "code",
   "execution_count": 10,
   "id": "7a45d1e9",
   "metadata": {},
   "outputs": [
    {
     "name": "stdout",
     "output_type": "stream",
     "text": [
      "                            THE BOROUGH FC MEN  GUELPH UNITED MEN  HAMILTON UNITED MEN  MASTER'S FA MEN  NORTH MISSISSAUGA SC MEN  PICKERING FC MEN  SUDBURY CYCLONES MEN  UNIONVILLE MILLIKEN SC MEN  WATERLOO UNITED MEN  WHITBY FC MEN  WINDSOR CITY FC MEN  YORK UNITED ACADEMY MEN\n",
      "THE BOROUGH FC MEN                          11                  0                   -1               -1                        -2                 0                    -1                          -2                   -1             -1                   -1                       -1\n",
      "GUELPH UNITED MEN                            0                  9                    0               -2                        -1                -1                    -1                           0                    0             -1                   -1                       -2\n",
      "HAMILTON UNITED MEN                         -1                  0                   11               -2                        -1                -1                    -1                           0                   -2             -1                   -2                        0\n",
      "MASTER'S FA MEN                             -1                 -2                   -2               13                        -1                -1                     0                          -1                   -1             -2                    0                       -2\n",
      "NORTH MISSISSAUGA SC MEN                    -2                 -1                   -1               -1                        12                 0                    -1                          -1                   -1              0                   -2                       -2\n",
      "PICKERING FC MEN                             0                 -1                   -1               -1                         0                12                    -1                          -2                   -1             -2                   -2                       -1\n",
      "SUDBURY CYCLONES MEN                        -1                 -1                   -1                0                        -1                -1                    11                           0                   -2             -2                   -1                       -1\n",
      "UNIONVILLE MILLIKEN SC MEN                  -2                  0                    0               -1                        -1                -2                     0                          11                   -2             -1                   -1                       -1\n",
      "WATERLOO UNITED MEN                         -1                  0                   -2               -1                        -1                -1                    -2                          -2                   12             -1                    0                       -1\n",
      "WHITBY FC MEN                               -1                 -1                   -1               -2                         0                -2                    -2                          -1                   -1             12                   -1                        0\n",
      "WINDSOR CITY FC MEN                         -1                 -1                   -2                0                        -2                -2                    -1                          -1                    0             -1                   12                       -1\n",
      "YORK UNITED ACADEMY MEN                      1                  1                    1                1                         1                 1                     1                           1                    1              1                    1                        1\n"
     ]
    }
   ],
   "source": [
    "M_bar = M.copy()\n",
    "M_bar[-1,:] = np.ones(M.shape[0])\n",
    "M_bar\n",
    "M_bar_df = pd.DataFrame(M_bar, index=teams, columns=teams)\n",
    "print(M_bar_df.to_string())"
   ]
  },
  {
   "cell_type": "code",
   "execution_count": 11,
   "id": "136dd6f9",
   "metadata": {},
   "outputs": [
    {
     "name": "stdout",
     "output_type": "stream",
     "text": [
      "                            GD\n",
      "THE BOROUGH FC MEN          11\n",
      "GUELPH UNITED MEN            4\n",
      "HAMILTON UNITED MEN        -25\n",
      "MASTER'S FA MEN              3\n",
      "NORTH MISSISSAUGA SC MEN    -1\n",
      "PICKERING FC MEN            -2\n",
      "SUDBURY CYCLONES MEN         5\n",
      "UNIONVILLE MILLIKEN SC MEN  -3\n",
      "WATERLOO UNITED MEN          6\n",
      "WHITBY FC MEN                8\n",
      "WINDSOR CITY FC MEN         -6\n",
      "YORK UNITED ACADEMY MEN      0\n"
     ]
    }
   ],
   "source": [
    "p = np.array(helpers.buildGDArray(scores_list, teams_list))\n",
    "p_bar = p\n",
    "p_bar[-1] = 0\n",
    "p_bar_df = pd.DataFrame(p_bar, index=teams, columns=['GD'])\n",
    "print(p_bar_df.to_string())"
   ]
  },
  {
   "cell_type": "code",
   "execution_count": 12,
   "id": "f753ceac",
   "metadata": {},
   "outputs": [
    {
     "name": "stdout",
     "output_type": "stream",
     "text": [
      "                            GD with limited blowouts\n",
      "THE BOROUGH FC MEN                                 8\n",
      "GUELPH UNITED MEN                                  4\n",
      "HAMILTON UNITED MEN                              -21\n",
      "MASTER'S FA MEN                                    3\n",
      "NORTH MISSISSAUGA SC MEN                           0\n",
      "PICKERING FC MEN                                  -2\n",
      "SUDBURY CYCLONES MEN                               7\n",
      "UNIONVILLE MILLIKEN SC MEN                         0\n",
      "WATERLOO UNITED MEN                                2\n",
      "WHITBY FC MEN                                      5\n",
      "WINDSOR CITY FC MEN                               -6\n",
      "YORK UNITED ACADEMY MEN                            0\n"
     ]
    }
   ],
   "source": [
    "# gd vector with blowouts accounted for\n",
    "p_bw = np.array(helpers.buildGDArray(scores_list, teams_list, 3))\n",
    "p_bar_bw = p_bw\n",
    "p_bar_bw[-1] = 0\n",
    "p_bar_bw_df = pd.DataFrame(p_bar_bw, index=teams, columns=['GD with limited blowouts'])\n",
    "print(p_bar_bw_df.to_string())"
   ]
  },
  {
   "cell_type": "code",
   "execution_count": 13,
   "id": "ea4cb935",
   "metadata": {},
   "outputs": [
    {
     "name": "stdout",
     "output_type": "stream",
     "text": [
      "                            Massey Rating\n",
      "THE BOROUGH FC MEN               0.877911\n",
      "WHITBY FC MEN                    0.642691\n",
      "GUELPH UNITED MEN                0.534010\n",
      "SUDBURY CYCLONES MEN             0.490464\n",
      "WATERLOO UNITED MEN              0.340201\n",
      "MASTER'S FA MEN                  0.170688\n",
      "YORK UNITED ACADEMY MEN          0.163866\n",
      "UNIONVILLE MILLIKEN SC MEN      -0.073368\n",
      "NORTH MISSISSAUGA SC MEN        -0.082030\n",
      "PICKERING FC MEN                -0.224336\n",
      "WINDSOR CITY FC MEN             -0.689811\n",
      "HAMILTON UNITED MEN             -2.150286\n"
     ]
    }
   ],
   "source": [
    "r = np.linalg.inv(M_bar).dot(p_bar)\n",
    "r_df = pd.DataFrame(r, index=teams, columns=['Massey Rating']).sort_values(by=['Massey Rating'], ascending=False)\n",
    "print(r_df)"
   ]
  },
  {
   "cell_type": "code",
   "execution_count": 14,
   "id": "1b82adcf",
   "metadata": {},
   "outputs": [
    {
     "name": "stdout",
     "output_type": "stream",
     "text": [
      "                            Massey Rating\n",
      "THE BOROUGH FC MEN               0.648086\n",
      "SUDBURY CYCLONES MEN             0.601846\n",
      "GUELPH UNITED MEN                0.535515\n",
      "WHITBY FC MEN                    0.414720\n",
      "MASTER'S FA MEN                  0.164358\n",
      "YORK UNITED ACADEMY MEN          0.164089\n",
      "UNIONVILLE MILLIKEN SC MEN       0.101797\n",
      "WATERLOO UNITED MEN              0.073589\n",
      "NORTH MISSISSAUGA SC MEN        -0.002179\n",
      "PICKERING FC MEN                -0.212931\n",
      "WINDSOR CITY FC MEN             -0.638711\n",
      "HAMILTON UNITED MEN             -1.850180\n"
     ]
    }
   ],
   "source": [
    "r = np.linalg.inv(M_bar).dot(p_bar_bw)\n",
    "r_df = pd.DataFrame(r, index=teams, columns=['Massey Rating']).sort_values(by=['Massey Rating'], ascending=False)\n",
    "print(r_df)"
   ]
  }
 ],
 "metadata": {
  "kernelspec": {
   "display_name": "3.12.1",
   "language": "python",
   "name": "python3"
  },
  "language_info": {
   "codemirror_mode": {
    "name": "ipython",
    "version": 3
   },
   "file_extension": ".py",
   "mimetype": "text/x-python",
   "name": "python",
   "nbconvert_exporter": "python",
   "pygments_lexer": "ipython3",
   "version": "3.12.1"
  }
 },
 "nbformat": 4,
 "nbformat_minor": 5
}
