{
 "cells": [
  {
   "cell_type": "code",
   "execution_count": 4,
   "id": "76737da7",
   "metadata": {},
   "outputs": [],
   "source": [
    "import numpy as np\n",
    "import pandas as pd\n",
    "import helpers"
   ]
  },
  {
   "cell_type": "code",
   "execution_count": 5,
   "id": "ee62b7bb",
   "metadata": {},
   "outputs": [
    {
     "data": {
      "text/html": [
       "<div>\n",
       "<style scoped>\n",
       "    .dataframe tbody tr th:only-of-type {\n",
       "        vertical-align: middle;\n",
       "    }\n",
       "\n",
       "    .dataframe tbody tr th {\n",
       "        vertical-align: top;\n",
       "    }\n",
       "\n",
       "    .dataframe thead th {\n",
       "        text-align: right;\n",
       "    }\n",
       "</style>\n",
       "<table border=\"1\" class=\"dataframe\">\n",
       "  <thead>\n",
       "    <tr style=\"text-align: right;\">\n",
       "      <th></th>\n",
       "      <th>Club ID</th>\n",
       "      <th>Club</th>\n",
       "    </tr>\n",
       "  </thead>\n",
       "  <tbody>\n",
       "    <tr>\n",
       "      <th>0</th>\n",
       "      <td>175321</td>\n",
       "      <td>BURLINGTON SC WOMEN</td>\n",
       "    </tr>\n",
       "    <tr>\n",
       "      <th>1</th>\n",
       "      <td>175332</td>\n",
       "      <td>HAMILTON UNITED WOMEN</td>\n",
       "    </tr>\n",
       "    <tr>\n",
       "      <th>2</th>\n",
       "      <td>183405</td>\n",
       "      <td>OAKVILLE SC WOMEN</td>\n",
       "    </tr>\n",
       "    <tr>\n",
       "      <th>3</th>\n",
       "      <td>175415</td>\n",
       "      <td>PICKERING FC WOMEN</td>\n",
       "    </tr>\n",
       "    <tr>\n",
       "      <th>4</th>\n",
       "      <td>175736</td>\n",
       "      <td>RUSH CANADA ACADEMY WOMEN</td>\n",
       "    </tr>\n",
       "    <tr>\n",
       "      <th>5</th>\n",
       "      <td>175350</td>\n",
       "      <td>SCROSOPPI FC WOMEN</td>\n",
       "    </tr>\n",
       "    <tr>\n",
       "      <th>6</th>\n",
       "      <td>175404</td>\n",
       "      <td>TECUMSEH UNITED FC WOMEN</td>\n",
       "    </tr>\n",
       "    <tr>\n",
       "      <th>7</th>\n",
       "      <td>175409</td>\n",
       "      <td>UNIONVILLE MILLIKEN SC WOMEN</td>\n",
       "    </tr>\n",
       "    <tr>\n",
       "      <th>8</th>\n",
       "      <td>183409</td>\n",
       "      <td>WHITBY FC WOMEN</td>\n",
       "    </tr>\n",
       "  </tbody>\n",
       "</table>\n",
       "</div>"
      ],
      "text/plain": [
       "   Club ID                          Club\n",
       "0   175321           BURLINGTON SC WOMEN\n",
       "1   175332         HAMILTON UNITED WOMEN\n",
       "2   183405             OAKVILLE SC WOMEN\n",
       "3   175415            PICKERING FC WOMEN\n",
       "4   175736     RUSH CANADA ACADEMY WOMEN\n",
       "5   175350            SCROSOPPI FC WOMEN\n",
       "6   175404      TECUMSEH UNITED FC WOMEN\n",
       "7   175409  UNIONVILLE MILLIKEN SC WOMEN\n",
       "8   183409               WHITBY FC WOMEN"
      ]
     },
     "execution_count": 5,
     "metadata": {},
     "output_type": "execute_result"
    }
   ],
   "source": [
    "teams_df = pd.read_csv('data/2025/womens_champ_teams.csv')\n",
    "teams_df"
   ]
  },
  {
   "cell_type": "code",
   "execution_count": 6,
   "id": "fe9e4f57",
   "metadata": {},
   "outputs": [
    {
     "data": {
      "text/html": [
       "<div>\n",
       "<style scoped>\n",
       "    .dataframe tbody tr th:only-of-type {\n",
       "        vertical-align: middle;\n",
       "    }\n",
       "\n",
       "    .dataframe tbody tr th {\n",
       "        vertical-align: top;\n",
       "    }\n",
       "\n",
       "    .dataframe thead th {\n",
       "        text-align: right;\n",
       "    }\n",
       "</style>\n",
       "<table border=\"1\" class=\"dataframe\">\n",
       "  <thead>\n",
       "    <tr style=\"text-align: right;\">\n",
       "      <th></th>\n",
       "      <th>Match ID</th>\n",
       "      <th>Home result</th>\n",
       "      <th>Away result</th>\n",
       "      <th>Home team</th>\n",
       "      <th>Away team</th>\n",
       "    </tr>\n",
       "  </thead>\n",
       "  <tbody>\n",
       "    <tr>\n",
       "      <th>0</th>\n",
       "      <td>261913436</td>\n",
       "      <td>6</td>\n",
       "      <td>1</td>\n",
       "      <td>175332</td>\n",
       "      <td>175321</td>\n",
       "    </tr>\n",
       "    <tr>\n",
       "      <th>1</th>\n",
       "      <td>261913449</td>\n",
       "      <td>0</td>\n",
       "      <td>2</td>\n",
       "      <td>175415</td>\n",
       "      <td>183405</td>\n",
       "    </tr>\n",
       "    <tr>\n",
       "      <th>2</th>\n",
       "      <td>261913452</td>\n",
       "      <td>0</td>\n",
       "      <td>2</td>\n",
       "      <td>175404</td>\n",
       "      <td>183409</td>\n",
       "    </tr>\n",
       "    <tr>\n",
       "      <th>3</th>\n",
       "      <td>261913453</td>\n",
       "      <td>2</td>\n",
       "      <td>8</td>\n",
       "      <td>175736</td>\n",
       "      <td>175415</td>\n",
       "    </tr>\n",
       "    <tr>\n",
       "      <th>4</th>\n",
       "      <td>261913454</td>\n",
       "      <td>1</td>\n",
       "      <td>0</td>\n",
       "      <td>175350</td>\n",
       "      <td>183405</td>\n",
       "    </tr>\n",
       "    <tr>\n",
       "      <th>5</th>\n",
       "      <td>261913455</td>\n",
       "      <td>0</td>\n",
       "      <td>1</td>\n",
       "      <td>175404</td>\n",
       "      <td>175332</td>\n",
       "    </tr>\n",
       "    <tr>\n",
       "      <th>6</th>\n",
       "      <td>261913456</td>\n",
       "      <td>1</td>\n",
       "      <td>6</td>\n",
       "      <td>175321</td>\n",
       "      <td>175409</td>\n",
       "    </tr>\n",
       "    <tr>\n",
       "      <th>7</th>\n",
       "      <td>261913457</td>\n",
       "      <td>0</td>\n",
       "      <td>1</td>\n",
       "      <td>183409</td>\n",
       "      <td>175409</td>\n",
       "    </tr>\n",
       "    <tr>\n",
       "      <th>8</th>\n",
       "      <td>261913458</td>\n",
       "      <td>0</td>\n",
       "      <td>2</td>\n",
       "      <td>175321</td>\n",
       "      <td>175404</td>\n",
       "    </tr>\n",
       "    <tr>\n",
       "      <th>9</th>\n",
       "      <td>261913459</td>\n",
       "      <td>1</td>\n",
       "      <td>0</td>\n",
       "      <td>175332</td>\n",
       "      <td>175350</td>\n",
       "    </tr>\n",
       "    <tr>\n",
       "      <th>10</th>\n",
       "      <td>261913460</td>\n",
       "      <td>1</td>\n",
       "      <td>1</td>\n",
       "      <td>183405</td>\n",
       "      <td>175736</td>\n",
       "    </tr>\n",
       "    <tr>\n",
       "      <th>11</th>\n",
       "      <td>261913461</td>\n",
       "      <td>4</td>\n",
       "      <td>2</td>\n",
       "      <td>175350</td>\n",
       "      <td>175415</td>\n",
       "    </tr>\n",
       "    <tr>\n",
       "      <th>12</th>\n",
       "      <td>261913462</td>\n",
       "      <td>3</td>\n",
       "      <td>2</td>\n",
       "      <td>183409</td>\n",
       "      <td>175321</td>\n",
       "    </tr>\n",
       "    <tr>\n",
       "      <th>13</th>\n",
       "      <td>261913463</td>\n",
       "      <td>1</td>\n",
       "      <td>4</td>\n",
       "      <td>175409</td>\n",
       "      <td>175332</td>\n",
       "    </tr>\n",
       "    <tr>\n",
       "      <th>14</th>\n",
       "      <td>261913465</td>\n",
       "      <td>2</td>\n",
       "      <td>4</td>\n",
       "      <td>175404</td>\n",
       "      <td>175736</td>\n",
       "    </tr>\n",
       "    <tr>\n",
       "      <th>15</th>\n",
       "      <td>261913466</td>\n",
       "      <td>0</td>\n",
       "      <td>1</td>\n",
       "      <td>175321</td>\n",
       "      <td>175332</td>\n",
       "    </tr>\n",
       "    <tr>\n",
       "      <th>16</th>\n",
       "      <td>261913467</td>\n",
       "      <td>1</td>\n",
       "      <td>0</td>\n",
       "      <td>183409</td>\n",
       "      <td>183405</td>\n",
       "    </tr>\n",
       "    <tr>\n",
       "      <th>17</th>\n",
       "      <td>261913468</td>\n",
       "      <td>0</td>\n",
       "      <td>1</td>\n",
       "      <td>175409</td>\n",
       "      <td>175415</td>\n",
       "    </tr>\n",
       "  </tbody>\n",
       "</table>\n",
       "</div>"
      ],
      "text/plain": [
       "     Match ID  Home result  Away result  Home team  Away team\n",
       "0   261913436            6            1     175332     175321\n",
       "1   261913449            0            2     175415     183405\n",
       "2   261913452            0            2     175404     183409\n",
       "3   261913453            2            8     175736     175415\n",
       "4   261913454            1            0     175350     183405\n",
       "5   261913455            0            1     175404     175332\n",
       "6   261913456            1            6     175321     175409\n",
       "7   261913457            0            1     183409     175409\n",
       "8   261913458            0            2     175321     175404\n",
       "9   261913459            1            0     175332     175350\n",
       "10  261913460            1            1     183405     175736\n",
       "11  261913461            4            2     175350     175415\n",
       "12  261913462            3            2     183409     175321\n",
       "13  261913463            1            4     175409     175332\n",
       "14  261913465            2            4     175404     175736\n",
       "15  261913466            0            1     175321     175332\n",
       "16  261913467            1            0     183409     183405\n",
       "17  261913468            0            1     175409     175415"
      ]
     },
     "execution_count": 6,
     "metadata": {},
     "output_type": "execute_result"
    }
   ],
   "source": [
    "scores_df = pd.read_csv('data/2025/2025-06-28_womens_champ_results.csv')\n",
    "scores_df\n"
   ]
  },
  {
   "cell_type": "code",
   "execution_count": 7,
   "id": "c2e7d1cf",
   "metadata": {},
   "outputs": [],
   "source": [
    "scores_list = scores_df.to_numpy()\n",
    "teams_list = teams_df.to_numpy()\n",
    "\n",
    "X = np.array(helpers.buildScoresArray(scores_list, teams_list))"
   ]
  },
  {
   "cell_type": "code",
   "execution_count": 8,
   "id": "d05708e9",
   "metadata": {},
   "outputs": [
    {
     "name": "stdout",
     "output_type": "stream",
     "text": [
      "           BURLINGTON SC WOMEN  HAMILTON UNITED WOMEN  OAKVILLE SC WOMEN  PICKERING FC WOMEN  RUSH CANADA ACADEMY WOMEN  SCROSOPPI FC WOMEN  TECUMSEH UNITED FC WOMEN  UNIONVILLE MILLIKEN SC WOMEN  WHITBY FC WOMEN\n",
      "261913436                   -1                      1                  0                   0                          0                   0                         0                             0                0\n",
      "261913449                    0                      0                  1                  -1                          0                   0                         0                             0                0\n",
      "261913452                    0                      0                  0                   0                          0                   0                        -1                             0                1\n",
      "261913453                    0                      0                  0                   1                         -1                   0                         0                             0                0\n",
      "261913454                    0                      0                 -1                   0                          0                   1                         0                             0                0\n",
      "261913455                    0                      1                  0                   0                          0                   0                        -1                             0                0\n",
      "261913456                   -1                      0                  0                   0                          0                   0                         0                             1                0\n",
      "261913457                    0                      0                  0                   0                          0                   0                         0                             1               -1\n",
      "261913458                   -1                      0                  0                   0                          0                   0                         1                             0                0\n",
      "261913459                    0                      1                  0                   0                          0                  -1                         0                             0                0\n",
      "261913460                    0                      0                  1                   0                         -1                   0                         0                             0                0\n",
      "261913461                    0                      0                  0                  -1                          0                   1                         0                             0                0\n",
      "261913462                   -1                      0                  0                   0                          0                   0                         0                             0                1\n",
      "261913463                    0                      1                  0                   0                          0                   0                         0                            -1                0\n",
      "261913465                    0                      0                  0                   0                          1                   0                        -1                             0                0\n",
      "261913466                   -1                      1                  0                   0                          0                   0                         0                             0                0\n",
      "261913467                    0                      0                 -1                   0                          0                   0                         0                             0                1\n",
      "261913468                    0                      0                  0                   1                          0                   0                         0                            -1                0\n"
     ]
    }
   ],
   "source": [
    "teams = teams_df['Club'].tolist()\n",
    "match_ids = scores_df['Match ID'].tolist()\n",
    "\n",
    "X_df = pd.DataFrame(X, index=match_ids, columns=teams)\n",
    "print(X_df.to_string())"
   ]
  },
  {
   "cell_type": "code",
   "execution_count": 9,
   "id": "cbc664fc",
   "metadata": {},
   "outputs": [
    {
     "name": "stdout",
     "output_type": "stream",
     "text": [
      "                              261913436  261913449  261913452  261913453  261913454  261913455  261913456  261913457  261913458  261913459  261913460  261913461  261913462  261913463  261913465  261913466  261913467  261913468\n",
      "BURLINGTON SC WOMEN                  -1          0          0          0          0          0         -1          0         -1          0          0          0         -1          0          0         -1          0          0\n",
      "HAMILTON UNITED WOMEN                 1          0          0          0          0          1          0          0          0          1          0          0          0          1          0          1          0          0\n",
      "OAKVILLE SC WOMEN                     0          1          0          0         -1          0          0          0          0          0          1          0          0          0          0          0         -1          0\n",
      "PICKERING FC WOMEN                    0         -1          0          1          0          0          0          0          0          0          0         -1          0          0          0          0          0          1\n",
      "RUSH CANADA ACADEMY WOMEN             0          0          0         -1          0          0          0          0          0          0         -1          0          0          0          1          0          0          0\n",
      "SCROSOPPI FC WOMEN                    0          0          0          0          1          0          0          0          0         -1          0          1          0          0          0          0          0          0\n",
      "TECUMSEH UNITED FC WOMEN              0          0         -1          0          0         -1          0          0          1          0          0          0          0          0         -1          0          0          0\n",
      "UNIONVILLE MILLIKEN SC WOMEN          0          0          0          0          0          0          1          1          0          0          0          0          0         -1          0          0          0         -1\n",
      "WHITBY FC WOMEN                       0          0          1          0          0          0          0         -1          0          0          0          0          1          0          0          0          1          0\n"
     ]
    }
   ],
   "source": [
    "print(X_df.T.to_string())"
   ]
  },
  {
   "cell_type": "code",
   "execution_count": 10,
   "id": "38172136",
   "metadata": {},
   "outputs": [
    {
     "name": "stdout",
     "output_type": "stream",
     "text": [
      "                              BURLINGTON SC WOMEN  HAMILTON UNITED WOMEN  OAKVILLE SC WOMEN  PICKERING FC WOMEN  RUSH CANADA ACADEMY WOMEN  SCROSOPPI FC WOMEN  TECUMSEH UNITED FC WOMEN  UNIONVILLE MILLIKEN SC WOMEN  WHITBY FC WOMEN\n",
      "BURLINGTON SC WOMEN                             5                     -2                  0                   0                          0                   0                        -1                            -1               -1\n",
      "HAMILTON UNITED WOMEN                          -2                      5                  0                   0                          0                  -1                        -1                            -1                0\n",
      "OAKVILLE SC WOMEN                               0                      0                  4                  -1                         -1                  -1                         0                             0               -1\n",
      "PICKERING FC WOMEN                              0                      0                 -1                   4                         -1                  -1                         0                            -1                0\n",
      "RUSH CANADA ACADEMY WOMEN                       0                      0                 -1                  -1                          3                   0                        -1                             0                0\n",
      "SCROSOPPI FC WOMEN                              0                     -1                 -1                  -1                          0                   3                         0                             0                0\n",
      "TECUMSEH UNITED FC WOMEN                       -1                     -1                  0                   0                         -1                   0                         4                             0               -1\n",
      "UNIONVILLE MILLIKEN SC WOMEN                   -1                     -1                  0                  -1                          0                   0                         0                             4               -1\n",
      "WHITBY FC WOMEN                                -1                      0                 -1                   0                          0                   0                        -1                            -1                4\n"
     ]
    }
   ],
   "source": [
    "M = (X.T).dot(X)\n",
    "M_df = pd.DataFrame(M, index=teams, columns=teams)\n",
    "print(M_df.to_string())"
   ]
  },
  {
   "cell_type": "code",
   "execution_count": 11,
   "id": "7a45d1e9",
   "metadata": {},
   "outputs": [
    {
     "name": "stdout",
     "output_type": "stream",
     "text": [
      "                              BURLINGTON SC WOMEN  HAMILTON UNITED WOMEN  OAKVILLE SC WOMEN  PICKERING FC WOMEN  RUSH CANADA ACADEMY WOMEN  SCROSOPPI FC WOMEN  TECUMSEH UNITED FC WOMEN  UNIONVILLE MILLIKEN SC WOMEN  WHITBY FC WOMEN\n",
      "BURLINGTON SC WOMEN                             5                     -2                  0                   0                          0                   0                        -1                            -1               -1\n",
      "HAMILTON UNITED WOMEN                          -2                      5                  0                   0                          0                  -1                        -1                            -1                0\n",
      "OAKVILLE SC WOMEN                               0                      0                  4                  -1                         -1                  -1                         0                             0               -1\n",
      "PICKERING FC WOMEN                              0                      0                 -1                   4                         -1                  -1                         0                            -1                0\n",
      "RUSH CANADA ACADEMY WOMEN                       0                      0                 -1                  -1                          3                   0                        -1                             0                0\n",
      "SCROSOPPI FC WOMEN                              0                     -1                 -1                  -1                          0                   3                         0                             0                0\n",
      "TECUMSEH UNITED FC WOMEN                       -1                     -1                  0                   0                         -1                   0                         4                             0               -1\n",
      "UNIONVILLE MILLIKEN SC WOMEN                   -1                     -1                  0                  -1                          0                   0                         0                             4               -1\n",
      "WHITBY FC WOMEN                                 1                      1                  1                   1                          1                   1                         1                             1                1\n"
     ]
    }
   ],
   "source": [
    "M_bar = M.copy()\n",
    "M_bar[-1,:] = np.ones(M.shape[0])\n",
    "M_bar\n",
    "M_bar_df = pd.DataFrame(M_bar, index=teams, columns=teams)\n",
    "print(M_bar_df.to_string())"
   ]
  },
  {
   "cell_type": "code",
   "execution_count": 12,
   "id": "136dd6f9",
   "metadata": {},
   "outputs": [
    {
     "name": "stdout",
     "output_type": "stream",
     "text": [
      "                              GD\n",
      "BURLINGTON SC WOMEN          -14\n",
      "HAMILTON UNITED WOMEN         11\n",
      "OAKVILLE SC WOMEN              0\n",
      "PICKERING FC WOMEN             3\n",
      "RUSH CANADA ACADEMY WOMEN     -4\n",
      "SCROSOPPI FC WOMEN             2\n",
      "TECUMSEH UNITED FC WOMEN      -3\n",
      "UNIONVILLE MILLIKEN SC WOMEN   2\n",
      "WHITBY FC WOMEN                0\n"
     ]
    }
   ],
   "source": [
    "p = np.array(helpers.buildGDArray(scores_list, teams_list))\n",
    "p_bar = p\n",
    "p_bar[-1] = 0\n",
    "p_bar_df = pd.DataFrame(p_bar, index=teams, columns=['GD'])\n",
    "print(p_bar_df.to_string())"
   ]
  },
  {
   "cell_type": "code",
   "execution_count": 13,
   "id": "f753ceac",
   "metadata": {},
   "outputs": [
    {
     "name": "stdout",
     "output_type": "stream",
     "text": [
      "                              GD with limited blowouts\n",
      "BURLINGTON SC WOMEN                                -10\n",
      "HAMILTON UNITED WOMEN                                9\n",
      "OAKVILLE SC WOMEN                                    0\n",
      "PICKERING FC WOMEN                                   0\n",
      "RUSH CANADA ACADEMY WOMEN                           -1\n",
      "SCROSOPPI FC WOMEN                                   2\n",
      "TECUMSEH UNITED FC WOMEN                            -3\n",
      "UNIONVILLE MILLIKEN SC WOMEN                         0\n",
      "WHITBY FC WOMEN                                      0\n"
     ]
    }
   ],
   "source": [
    "# gd vector with blowouts accounted for\n",
    "p_bw = np.array(helpers.buildGDArray(scores_list, teams_list, 3))\n",
    "p_bar_bw = p_bw\n",
    "p_bar_bw[-1] = 0\n",
    "p_bar_bw_df = pd.DataFrame(p_bar_bw, index=teams, columns=['GD with limited blowouts'])\n",
    "print(p_bar_bw_df.to_string())"
   ]
  },
  {
   "cell_type": "code",
   "execution_count": 14,
   "id": "ea4cb935",
   "metadata": {},
   "outputs": [
    {
     "name": "stdout",
     "output_type": "stream",
     "text": [
      "                              Massey Rating\n",
      "SCROSOPPI FC WOMEN                 1.602021\n",
      "HAMILTON UNITED WOMEN              1.414054\n",
      "PICKERING FC WOMEN                 1.044322\n",
      "UNIONVILLE MILLIKEN SC WOMEN       0.531978\n",
      "OAKVILLE SC WOMEN                  0.347686\n",
      "WHITBY FC WOMEN                    0.048800\n",
      "RUSH CANADA ACADEMY WOMEN         -1.304398\n",
      "TECUMSEH UNITED FC WOMEN          -1.305202\n",
      "BURLINGTON SC WOMEN               -2.379263\n"
     ]
    }
   ],
   "source": [
    "r = np.linalg.inv(M_bar).dot(p_bar)\n",
    "r_df = pd.DataFrame(r, index=teams, columns=['Massey Rating']).sort_values(by=['Massey Rating'], ascending=False)\n",
    "print(r_df)"
   ]
  },
  {
   "cell_type": "code",
   "execution_count": 15,
   "id": "1b82adcf",
   "metadata": {},
   "outputs": [
    {
     "name": "stdout",
     "output_type": "stream",
     "text": [
      "                              Massey Rating\n",
      "SCROSOPPI FC WOMEN                 1.246603\n",
      "HAMILTON UNITED WOMEN              1.174609\n",
      "OAKVILLE SC WOMEN                  0.300685\n",
      "PICKERING FC WOMEN                 0.264516\n",
      "WHITBY FC WOMEN                    0.155663\n",
      "UNIONVILLE MILLIKEN SC WOMEN      -0.025185\n",
      "RUSH CANADA ACADEMY WOMEN         -0.464041\n",
      "TECUMSEH UNITED FC WOMEN          -0.957324\n",
      "BURLINGTON SC WOMEN               -1.695526\n"
     ]
    }
   ],
   "source": [
    "r = np.linalg.inv(M_bar).dot(p_bar_bw)\n",
    "r_df = pd.DataFrame(r, index=teams, columns=['Massey Rating']).sort_values(by=['Massey Rating'], ascending=False)\n",
    "print(r_df)"
   ]
  }
 ],
 "metadata": {
  "kernelspec": {
   "display_name": "3.12.1",
   "language": "python",
   "name": "python3"
  },
  "language_info": {
   "codemirror_mode": {
    "name": "ipython",
    "version": 3
   },
   "file_extension": ".py",
   "mimetype": "text/x-python",
   "name": "python",
   "nbconvert_exporter": "python",
   "pygments_lexer": "ipython3",
   "version": "3.12.1"
  }
 },
 "nbformat": 4,
 "nbformat_minor": 5
}
